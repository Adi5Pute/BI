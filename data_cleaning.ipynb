{
  "nbformat": 4,
  "nbformat_minor": 0,
  "metadata": {
    "colab": {
      "provenance": []
    },
    "kernelspec": {
      "name": "python3",
      "display_name": "Python 3"
    },
    "language_info": {
      "name": "python"
    }
  },
  "cells": [
    {
      "cell_type": "code",
      "execution_count": null,
      "metadata": {
        "colab": {
          "base_uri": "https://localhost:8080/"
        },
        "id": "ozYixVdm0EBj",
        "outputId": "f6da796f-eb87-422e-a615-cdaa82ea0549"
      },
      "outputs": [
        {
          "output_type": "stream",
          "name": "stdout",
          "text": [
            "      Name  Age         City  Marks\n",
            "0    Rohan   10       Mumbai   78.0\n",
            "1     John   20        Thane   90.0\n",
            "2  Avinash   45  Navi Mumbai   35.0\n",
            "3      Roy   34         Pune   60.0\n",
            "4   Ramesh   21       Nashik   50.0\n"
          ]
        }
      ],
      "source": [
        "import pandas as pd\n",
        "df = pd.read_csv('/content/sample_data/sample_dataset.csv')\n",
        "\n",
        "print(df.head())"
      ]
    },
    {
      "cell_type": "code",
      "source": [
        "print(df.isnull())"
      ],
      "metadata": {
        "colab": {
          "base_uri": "https://localhost:8080/"
        },
        "id": "ZfXsJg8j1KdP",
        "outputId": "8f45ceb1-b095-473f-f3cf-d0b42c940c70"
      },
      "execution_count": null,
      "outputs": [
        {
          "output_type": "stream",
          "name": "stdout",
          "text": [
            "    Name    Age   City  Marks\n",
            "0  False  False  False  False\n",
            "1  False  False  False  False\n",
            "2  False  False  False  False\n",
            "3  False  False  False  False\n",
            "4  False  False  False  False\n",
            "5  False  False  False   True\n",
            "6  False  False  False  False\n",
            "7   True  False  False  False\n",
            "8  False  False  False  False\n"
          ]
        }
      ]
    },
    {
      "cell_type": "code",
      "source": [
        "df['Marks']=df['Marks'].fillna(df['Marks'].mean())"
      ],
      "metadata": {
        "id": "G-75LrtR2DsY"
      },
      "execution_count": null,
      "outputs": []
    },
    {
      "cell_type": "code",
      "source": [
        "print(df)"
      ],
      "metadata": {
        "colab": {
          "base_uri": "https://localhost:8080/"
        },
        "id": "4yu8Kt8C3Gea",
        "outputId": "ca8cc0cc-6838-4c11-b69b-192430ca7292"
      },
      "execution_count": null,
      "outputs": [
        {
          "output_type": "stream",
          "name": "stdout",
          "text": [
            "      Name  Age         City  Marks\n",
            "0    Rohan   10       Mumbai   78.0\n",
            "1     John   20        Thane   90.0\n",
            "2  Avinash   45  Navi Mumbai   35.0\n",
            "3      Roy   34         Pune   60.0\n",
            "4   Ramesh   21       Nashik   50.0\n",
            "5   Suresh   68    Hyderabad   59.0\n",
            "6   Mahesh   37        Delhi   21.0\n",
            "7      NaN   19     Banglore   98.0\n",
            "8     Veer   29      Chennai   40.0\n"
          ]
        }
      ]
    },
    {
      "cell_type": "code",
      "source": [
        "df['Name'] = df['Name'].fillna('Unknown')"
      ],
      "metadata": {
        "id": "M-Sxt9v84r3u"
      },
      "execution_count": null,
      "outputs": []
    },
    {
      "cell_type": "code",
      "source": [
        "print(df)"
      ],
      "metadata": {
        "colab": {
          "base_uri": "https://localhost:8080/"
        },
        "id": "uczcSskJ6EZx",
        "outputId": "81754758-5896-4a90-a5d4-f5b740a7e9f3"
      },
      "execution_count": null,
      "outputs": [
        {
          "output_type": "stream",
          "name": "stdout",
          "text": [
            "      Name  Age         City  Marks\n",
            "0    Rohan   10       Mumbai   78.0\n",
            "1     John   20        Thane   90.0\n",
            "2  Avinash   45  Navi Mumbai   35.0\n",
            "3      Roy   34         Pune   60.0\n",
            "4   Ramesh   21       Nashik   50.0\n",
            "5   Suresh   68    Hyderabad   59.0\n",
            "6   Mahesh   37        Delhi   21.0\n",
            "7  Unknown   19     Banglore   98.0\n",
            "8     Veer   29      Chennai   40.0\n"
          ]
        }
      ]
    },
    {
      "cell_type": "code",
      "source": [
        "bins = [0,18,35,60,80]\n",
        "labels = ['Child','Young Adult','Adult','Senior Citizen']\n",
        "\n",
        "df['Age Group'] = pd.cut(df['Age'], bins=bins, labels=labels)\n",
        "\n",
        "print(df)"
      ],
      "metadata": {
        "colab": {
          "base_uri": "https://localhost:8080/"
        },
        "id": "6iV4BbVY7Nqn",
        "outputId": "bd5988cd-4c55-4d90-852f-ef5544f8cab1"
      },
      "execution_count": null,
      "outputs": [
        {
          "output_type": "stream",
          "name": "stdout",
          "text": [
            "      Name  Age         City  Marks       Age Group\n",
            "0    Rohan   10       Mumbai   78.0           Child\n",
            "1     John   20        Thane   90.0     Young Adult\n",
            "2  Avinash   45  Navi Mumbai   35.0           Adult\n",
            "3      Roy   34         Pune   60.0     Young Adult\n",
            "4   Ramesh   21       Nashik   50.0     Young Adult\n",
            "5   Suresh   68    Hyderabad   59.0  Senior Citizen\n",
            "6   Mahesh   37        Delhi   21.0           Adult\n",
            "7  Unknown   19     Banglore   98.0     Young Adult\n",
            "8     Veer   29      Chennai   40.0     Young Adult\n"
          ]
        }
      ]
    },
    {
      "cell_type": "code",
      "source": [
        "bins = [0,40,70,100]\n",
        "labels = ['Low','Medium','High']\n",
        "\n",
        "df['Marks Category'] = pd.cut(df['Marks'], bins=bins, labels=labels)\n",
        "\n",
        "print(df)"
      ],
      "metadata": {
        "colab": {
          "base_uri": "https://localhost:8080/"
        },
        "id": "OYgkoN44FIfW",
        "outputId": "99583868-bc82-442d-e77c-5e89919e3ded"
      },
      "execution_count": null,
      "outputs": [
        {
          "output_type": "stream",
          "name": "stdout",
          "text": [
            "      Name  Age         City  Marks       Age Group Marks Category\n",
            "0    Rohan   10       Mumbai   78.0           Child           High\n",
            "1     John   20        Thane   90.0     Young Adult           High\n",
            "2  Avinash   45  Navi Mumbai   35.0           Adult            Low\n",
            "3      Roy   34         Pune   60.0     Young Adult         Medium\n",
            "4   Ramesh   21       Nashik   50.0     Young Adult         Medium\n",
            "5   Suresh   68    Hyderabad   59.0  Senior Citizen         Medium\n",
            "6   Mahesh   37        Delhi   21.0           Adult            Low\n",
            "7  Unknown   19     Banglore   98.0     Young Adult           High\n",
            "8     Veer   29      Chennai   40.0     Young Adult            Low\n"
          ]
        }
      ]
    },
    {
      "cell_type": "code",
      "source": [
        "print(df['Marks'])"
      ],
      "metadata": {
        "colab": {
          "base_uri": "https://localhost:8080/"
        },
        "id": "A-8JpMa8YSG6",
        "outputId": "d48440a6-03ba-48e1-f542-d58a4942d9c5"
      },
      "execution_count": null,
      "outputs": [
        {
          "output_type": "stream",
          "name": "stdout",
          "text": [
            "0    78.0\n",
            "1    90.0\n",
            "2    35.0\n",
            "3    60.0\n",
            "4    50.0\n",
            "5    59.0\n",
            "6    21.0\n",
            "7    98.0\n",
            "8    40.0\n",
            "Name: Marks, dtype: float64\n"
          ]
        }
      ]
    },
    {
      "cell_type": "code",
      "source": [
        "from sklearn.preprocessing import MinMaxScaler\n",
        "\n",
        "scaler = MinMaxScaler()\n",
        "\n",
        "df['Normalized Marks'] = scaler.fit_transform(df[['Marks']])\n",
        "print(df)"
      ],
      "metadata": {
        "colab": {
          "base_uri": "https://localhost:8080/"
        },
        "id": "Y9dshEgZXXd6",
        "outputId": "ec785c1a-1bf6-4727-a711-45cfe8baf5bd"
      },
      "execution_count": null,
      "outputs": [
        {
          "output_type": "stream",
          "name": "stdout",
          "text": [
            "   Marks  Normalized Marks\n",
            "0   78.0          0.740260\n",
            "1   90.0          0.896104\n",
            "2   35.0          0.181818\n",
            "3   60.0          0.506494\n",
            "4   50.0          0.376623\n",
            "5   59.0          0.493506\n",
            "6   21.0          0.000000\n",
            "7   98.0          1.000000\n",
            "8   40.0          0.246753\n"
          ]
        }
      ]
    },
    {
      "cell_type": "code",
      "source": [
        "data = {'City':['Mumbai','Navi Mumbai','Thane','Banglore','Hyderabad','Delhi','Pune','Nashik','Chennai']}\n",
        "\n",
        "df = pd.DataFrame(data)\n",
        "\n",
        "data_encoded = pd.get_dummies(df,columns=['City'])\n",
        "print(data_encoded)\n"
      ],
      "metadata": {
        "colab": {
          "base_uri": "https://localhost:8080/"
        },
        "id": "3OWCwGgPbcSv",
        "outputId": "bc44646a-145c-4eae-cf28-f9471d0fb142"
      },
      "execution_count": null,
      "outputs": [
        {
          "output_type": "stream",
          "name": "stdout",
          "text": [
            "   City_Banglore  City_Chennai  City_Delhi  City_Hyderabad  City_Mumbai  \\\n",
            "0          False         False       False           False         True   \n",
            "1          False         False       False           False        False   \n",
            "2          False         False       False           False        False   \n",
            "3           True         False       False           False        False   \n",
            "4          False         False       False            True        False   \n",
            "5          False         False        True           False        False   \n",
            "6          False         False       False           False        False   \n",
            "7          False         False       False           False        False   \n",
            "8          False          True       False           False        False   \n",
            "\n",
            "   City_Nashik  City_Navi Mumbai  City_Pune  City_Thane  \n",
            "0        False             False      False       False  \n",
            "1        False              True      False       False  \n",
            "2        False             False      False        True  \n",
            "3        False             False      False       False  \n",
            "4        False             False      False       False  \n",
            "5        False             False      False       False  \n",
            "6        False             False       True       False  \n",
            "7         True             False      False       False  \n",
            "8        False             False      False       False  \n"
          ]
        }
      ]
    }
  ]
}