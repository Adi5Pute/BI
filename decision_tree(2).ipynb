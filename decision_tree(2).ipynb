{
  "nbformat": 4,
  "nbformat_minor": 0,
  "metadata": {
    "colab": {
      "provenance": []
    },
    "kernelspec": {
      "name": "python3",
      "display_name": "Python 3"
    },
    "language_info": {
      "name": "python"
    }
  },
  "cells": [
    {
      "cell_type": "code",
      "source": [
        "import pandas as pd\n",
        "import numpy as np\n",
        "from collections import Counter\n",
        "from pprint import pprint\n",
        "from graphviz import Digraph\n",
        "import uuid\n",
        "\n",
        "\n",
        "# Load dataset\n",
        "df = pd.read_csv('/content/sample_data/Decision Tree Dataset.csv')\n",
        "\n",
        "# Convert categorical values to numeric for processing\n",
        "for column in df.columns:\n",
        "    df[column] = df[column].astype('category').cat.codes\n",
        "\n",
        "# Convert DataFrame to list of records\n",
        "data = df.values.tolist()\n",
        "header = df.columns.tolist()\n"
      ],
      "metadata": {
        "id": "YTEu6fcc8bO2"
      },
      "execution_count": null,
      "outputs": []
    },
    {
      "cell_type": "code",
      "execution_count": null,
      "metadata": {
        "id": "W-e9qDY56C2g"
      },
      "outputs": [],
      "source": [
        "def entropy(rows):\n",
        "    labels = [row[-1] for row in rows]\n",
        "    counts = Counter(labels)\n",
        "    total = len(rows)\n",
        "    return -sum((count/total) * np.log2(count/total) for count in counts.values())"
      ]
    },
    {
      "cell_type": "code",
      "source": [
        "def split(rows, column, value):\n",
        "    left = [row for row in rows if row[column] == value]\n",
        "    right = [row for row in rows if row[column] != value]\n",
        "    return left, right"
      ],
      "metadata": {
        "id": "sNRwKCUC8-Nz"
      },
      "execution_count": null,
      "outputs": []
    },
    {
      "cell_type": "code",
      "source": [
        "def best_split(rows):\n",
        "    best_gain = 0\n",
        "    best_question = None\n",
        "    current_entropy = entropy(rows)\n",
        "    n_features = len(rows[0]) - 1\n",
        "\n",
        "    for col in range(n_features):\n",
        "        values = set(row[col] for row in rows)\n",
        "        for val in values:\n",
        "            left, right = split(rows, col, val)\n",
        "            if not left or not right:\n",
        "                continue\n",
        "            p = float(len(left)) / len(rows)\n",
        "            gain = current_entropy - (p * entropy(left)) - ((1 - p) * entropy(right))\n",
        "            if gain > best_gain:\n",
        "                best_gain = gain\n",
        "                best_question = (col, val)\n",
        "    return best_gain, best_question\n"
      ],
      "metadata": {
        "id": "QmZyz0p19EGb"
      },
      "execution_count": null,
      "outputs": []
    },
    {
      "cell_type": "code",
      "source": [
        "class Node:\n",
        "    def __init__(self, question=None, true_branch=None, false_branch=None, prediction=None):\n",
        "        self.question = question\n",
        "        self.true_branch = true_branch\n",
        "        self.false_branch = false_branch\n",
        "        self.prediction = prediction\n",
        "        self.id = str(uuid.uuid4())  # unique ID for graph nodes\n",
        "\n",
        "def build_tree(rows):\n",
        "    gain, question = best_split(rows)\n",
        "    if gain == 0:\n",
        "        predictions = Counter([row[-1] for row in rows])\n",
        "        return Node(prediction=predictions)\n",
        "    col, val = question\n",
        "    true_rows, false_rows = split(rows, col, val)\n",
        "    true_branch = build_tree(true_rows)\n",
        "    false_branch = build_tree(false_rows)\n",
        "    return Node(question=(col, val), true_branch=true_branch, false_branch=false_branch)\n"
      ],
      "metadata": {
        "id": "fwGa67P89F0H"
      },
      "execution_count": null,
      "outputs": []
    },
    {
      "cell_type": "code",
      "source": [
        "def visualize_tree(node, dot=None):\n",
        "    if dot is None:\n",
        "        dot = Digraph()\n",
        "\n",
        "    if node.prediction is not None:\n",
        "        label = \"Predict: \" + str(dict(node.prediction))\n",
        "        dot.node(node.id, label, shape='box', style='filled', color='lightblue')\n",
        "    else:\n",
        "        col_name = header[node.question[0]]\n",
        "        val = node.question[1]\n",
        "        label = f\"{col_name} == {val}?\"\n",
        "        dot.node(node.id, label)\n",
        "\n",
        "        # True branch\n",
        "        dot = visualize_tree(node.true_branch, dot)\n",
        "        dot.edge(node.id, node.true_branch.id, label=\"True\")\n",
        "\n",
        "        # False branch\n",
        "        dot = visualize_tree(node.false_branch, dot)\n",
        "        dot.edge(node.id, node.false_branch.id, label=\"False\")\n",
        "\n",
        "    return dot\n"
      ],
      "metadata": {
        "id": "fz2slw679I6Y"
      },
      "execution_count": null,
      "outputs": []
    },
    {
      "cell_type": "code",
      "source": [
        "tree = build_tree(data)\n",
        "dot = visualize_tree(tree)\n",
        "dot.render('decision_tree', format='png', cleanup=False)  # Saves as PNG\n",
        "dot  # Display in Google Colab"
      ],
      "metadata": {
        "colab": {
          "base_uri": "https://localhost:8080/",
          "height": 428
        },
        "id": "SYOmhpQP9Pku",
        "outputId": "ea82762f-f08a-4efe-b898-329b0a78a5c3"
      },
      "execution_count": null,
      "outputs": [
        {
          "output_type": "execute_result",
          "data": {
            "image/svg+xml": "<?xml version=\"1.0\" encoding=\"UTF-8\" standalone=\"no\"?>\n<!DOCTYPE svg PUBLIC \"-//W3C//DTD SVG 1.1//EN\"\n \"http://www.w3.org/Graphics/SVG/1.1/DTD/svg11.dtd\">\n<!-- Generated by graphviz version 2.43.0 (0)\n -->\n<!-- Title: %3 Pages: 1 -->\n<svg width=\"528pt\" height=\"305pt\"\n viewBox=\"0.00 0.00 528.00 305.00\" xmlns=\"http://www.w3.org/2000/svg\" xmlns:xlink=\"http://www.w3.org/1999/xlink\">\n<g id=\"graph0\" class=\"graph\" transform=\"scale(1 1) rotate(0) translate(4 301)\">\n<title>%3</title>\n<polygon fill=\"white\" stroke=\"transparent\" points=\"-4,4 -4,-301 524,-301 524,4 -4,4\"/>\n<!-- 2dc8ac77&#45;4394&#45;4dd3&#45;97ca&#45;0f533ff2cac6 -->\n<g id=\"node1\" class=\"node\">\n<title>2dc8ac77&#45;4394&#45;4dd3&#45;97ca&#45;0f533ff2cac6</title>\n<ellipse fill=\"none\" stroke=\"black\" cx=\"225.5\" cy=\"-279\" rx=\"68.79\" ry=\"18\"/>\n<text text-anchor=\"middle\" x=\"225.5\" y=\"-275.3\" font-family=\"Times,serif\" font-size=\"14.00\">Humidity == 0?</text>\n</g>\n<!-- 6ff76f53&#45;b576&#45;4cb3&#45;a35d&#45;4f54be432e8e -->\n<g id=\"node2\" class=\"node\">\n<title>6ff76f53&#45;b576&#45;4cb3&#45;a35d&#45;4f54be432e8e</title>\n<ellipse fill=\"none\" stroke=\"black\" cx=\"156.5\" cy=\"-192\" rx=\"63.89\" ry=\"18\"/>\n<text text-anchor=\"middle\" x=\"156.5\" y=\"-188.3\" font-family=\"Times,serif\" font-size=\"14.00\">Outlook == 0?</text>\n</g>\n<!-- 2dc8ac77&#45;4394&#45;4dd3&#45;97ca&#45;0f533ff2cac6&#45;&gt;6ff76f53&#45;b576&#45;4cb3&#45;a35d&#45;4f54be432e8e -->\n<g id=\"edge3\" class=\"edge\">\n<title>2dc8ac77&#45;4394&#45;4dd3&#45;97ca&#45;0f533ff2cac6&#45;&gt;6ff76f53&#45;b576&#45;4cb3&#45;a35d&#45;4f54be432e8e</title>\n<path fill=\"none\" stroke=\"black\" d=\"M211.87,-261.21C201.76,-248.75 187.81,-231.57 176.45,-217.57\"/>\n<polygon fill=\"black\" stroke=\"black\" points=\"179.12,-215.32 170.1,-209.76 173.69,-219.73 179.12,-215.32\"/>\n<text text-anchor=\"middle\" x=\"207.5\" y=\"-231.8\" font-family=\"Times,serif\" font-size=\"14.00\">True</text>\n</g>\n<!-- 89e138df&#45;c9b7&#45;40ea&#45;8593&#45;b12b552f8f99 -->\n<g id=\"node5\" class=\"node\">\n<title>89e138df&#45;c9b7&#45;40ea&#45;8593&#45;b12b552f8f99</title>\n<ellipse fill=\"none\" stroke=\"black\" cx=\"296.5\" cy=\"-192\" rx=\"58.49\" ry=\"18\"/>\n<text text-anchor=\"middle\" x=\"296.5\" y=\"-188.3\" font-family=\"Times,serif\" font-size=\"14.00\">Windy == 0?</text>\n</g>\n<!-- 2dc8ac77&#45;4394&#45;4dd3&#45;97ca&#45;0f533ff2cac6&#45;&gt;89e138df&#45;c9b7&#45;40ea&#45;8593&#45;b12b552f8f99 -->\n<g id=\"edge8\" class=\"edge\">\n<title>2dc8ac77&#45;4394&#45;4dd3&#45;97ca&#45;0f533ff2cac6&#45;&gt;89e138df&#45;c9b7&#45;40ea&#45;8593&#45;b12b552f8f99</title>\n<path fill=\"none\" stroke=\"black\" d=\"M239.53,-261.21C249.93,-248.75 264.28,-231.57 275.97,-217.57\"/>\n<polygon fill=\"black\" stroke=\"black\" points=\"278.78,-219.68 282.5,-209.76 273.4,-215.19 278.78,-219.68\"/>\n<text text-anchor=\"middle\" x=\"279\" y=\"-231.8\" font-family=\"Times,serif\" font-size=\"14.00\">False</text>\n</g>\n<!-- 4212c013&#45;66b8&#45;4b29&#45;b4d0&#45;cfd130fd86f6 -->\n<g id=\"node3\" class=\"node\">\n<title>4212c013&#45;66b8&#45;4b29&#45;b4d0&#45;cfd130fd86f6</title>\n<polygon fill=\"lightblue\" stroke=\"lightblue\" points=\"97,-123 0,-123 0,-87 97,-87 97,-123\"/>\n<text text-anchor=\"middle\" x=\"48.5\" y=\"-101.3\" font-family=\"Times,serif\" font-size=\"14.00\">Predict: {1: 2}</text>\n</g>\n<!-- 6ff76f53&#45;b576&#45;4cb3&#45;a35d&#45;4f54be432e8e&#45;&gt;4212c013&#45;66b8&#45;4b29&#45;b4d0&#45;cfd130fd86f6 -->\n<g id=\"edge1\" class=\"edge\">\n<title>6ff76f53&#45;b576&#45;4cb3&#45;a35d&#45;4f54be432e8e&#45;&gt;4212c013&#45;66b8&#45;4b29&#45;b4d0&#45;cfd130fd86f6</title>\n<path fill=\"none\" stroke=\"black\" d=\"M135.93,-174.81C119.59,-161.95 96.5,-143.78 78.16,-129.34\"/>\n<polygon fill=\"black\" stroke=\"black\" points=\"80.12,-126.44 70.1,-123 75.8,-131.94 80.12,-126.44\"/>\n<text text-anchor=\"middle\" x=\"122.5\" y=\"-144.8\" font-family=\"Times,serif\" font-size=\"14.00\">True</text>\n</g>\n<!-- baf4e59c&#45;20c2&#45;4534&#45;bfb0&#45;d323ceb4f283 -->\n<g id=\"node4\" class=\"node\">\n<title>baf4e59c&#45;20c2&#45;4534&#45;bfb0&#45;d323ceb4f283</title>\n<polygon fill=\"lightblue\" stroke=\"lightblue\" points=\"212,-123 115,-123 115,-87 212,-87 212,-123\"/>\n<text text-anchor=\"middle\" x=\"163.5\" y=\"-101.3\" font-family=\"Times,serif\" font-size=\"14.00\">Predict: {0: 4}</text>\n</g>\n<!-- 6ff76f53&#45;b576&#45;4cb3&#45;a35d&#45;4f54be432e8e&#45;&gt;baf4e59c&#45;20c2&#45;4534&#45;bfb0&#45;d323ceb4f283 -->\n<g id=\"edge2\" class=\"edge\">\n<title>6ff76f53&#45;b576&#45;4cb3&#45;a35d&#45;4f54be432e8e&#45;&gt;baf4e59c&#45;20c2&#45;4534&#45;bfb0&#45;d323ceb4f283</title>\n<path fill=\"none\" stroke=\"black\" d=\"M157.92,-173.8C158.87,-162.16 160.16,-146.55 161.26,-133.24\"/>\n<polygon fill=\"black\" stroke=\"black\" points=\"164.75,-133.43 162.09,-123.18 157.78,-132.85 164.75,-133.43\"/>\n<text text-anchor=\"middle\" x=\"174\" y=\"-144.8\" font-family=\"Times,serif\" font-size=\"14.00\">False</text>\n</g>\n<!-- fe889fa2&#45;ca85&#45;4319&#45;b292&#45;98d1ac13e970 -->\n<g id=\"node6\" class=\"node\">\n<title>fe889fa2&#45;ca85&#45;4319&#45;b292&#45;98d1ac13e970</title>\n<polygon fill=\"lightblue\" stroke=\"lightblue\" points=\"333,-123 236,-123 236,-87 333,-87 333,-123\"/>\n<text text-anchor=\"middle\" x=\"284.5\" y=\"-101.3\" font-family=\"Times,serif\" font-size=\"14.00\">Predict: {1: 5}</text>\n</g>\n<!-- 89e138df&#45;c9b7&#45;40ea&#45;8593&#45;b12b552f8f99&#45;&gt;fe889fa2&#45;ca85&#45;4319&#45;b292&#45;98d1ac13e970 -->\n<g id=\"edge4\" class=\"edge\">\n<title>89e138df&#45;c9b7&#45;40ea&#45;8593&#45;b12b552f8f99&#45;&gt;fe889fa2&#45;ca85&#45;4319&#45;b292&#45;98d1ac13e970</title>\n<path fill=\"none\" stroke=\"black\" d=\"M294.07,-173.8C292.43,-162.16 290.22,-146.55 288.35,-133.24\"/>\n<polygon fill=\"black\" stroke=\"black\" points=\"291.79,-132.59 286.92,-123.18 284.86,-133.57 291.79,-132.59\"/>\n<text text-anchor=\"middle\" x=\"303.5\" y=\"-144.8\" font-family=\"Times,serif\" font-size=\"14.00\">True</text>\n</g>\n<!-- 9ff62854&#45;ed63&#45;4b03&#45;85e2&#45;5a354aa506ef -->\n<g id=\"node7\" class=\"node\">\n<title>9ff62854&#45;ed63&#45;4b03&#45;85e2&#45;5a354aa506ef</title>\n<ellipse fill=\"none\" stroke=\"black\" cx=\"414.5\" cy=\"-105\" rx=\"63.89\" ry=\"18\"/>\n<text text-anchor=\"middle\" x=\"414.5\" y=\"-101.3\" font-family=\"Times,serif\" font-size=\"14.00\">Outlook == 1?</text>\n</g>\n<!-- 89e138df&#45;c9b7&#45;40ea&#45;8593&#45;b12b552f8f99&#45;&gt;9ff62854&#45;ed63&#45;4b03&#45;85e2&#45;5a354aa506ef -->\n<g id=\"edge7\" class=\"edge\">\n<title>89e138df&#45;c9b7&#45;40ea&#45;8593&#45;b12b552f8f99&#45;&gt;9ff62854&#45;ed63&#45;4b03&#45;85e2&#45;5a354aa506ef</title>\n<path fill=\"none\" stroke=\"black\" d=\"M318.42,-175.21C336.85,-161.94 363.39,-142.81 383.91,-128.03\"/>\n<polygon fill=\"black\" stroke=\"black\" points=\"386.23,-130.68 392.3,-121.99 382.14,-125 386.23,-130.68\"/>\n<text text-anchor=\"middle\" x=\"377\" y=\"-144.8\" font-family=\"Times,serif\" font-size=\"14.00\">False</text>\n</g>\n<!-- 8921a49b&#45;01c6&#45;4161&#45;a383&#45;7ba986be035e -->\n<g id=\"node8\" class=\"node\">\n<title>8921a49b&#45;01c6&#45;4161&#45;a383&#45;7ba986be035e</title>\n<polygon fill=\"lightblue\" stroke=\"lightblue\" points=\"405,-36 308,-36 308,0 405,0 405,-36\"/>\n<text text-anchor=\"middle\" x=\"356.5\" y=\"-14.3\" font-family=\"Times,serif\" font-size=\"14.00\">Predict: {0: 1}</text>\n</g>\n<!-- 9ff62854&#45;ed63&#45;4b03&#45;85e2&#45;5a354aa506ef&#45;&gt;8921a49b&#45;01c6&#45;4161&#45;a383&#45;7ba986be035e -->\n<g id=\"edge5\" class=\"edge\">\n<title>9ff62854&#45;ed63&#45;4b03&#45;85e2&#45;5a354aa506ef&#45;&gt;8921a49b&#45;01c6&#45;4161&#45;a383&#45;7ba986be035e</title>\n<path fill=\"none\" stroke=\"black\" d=\"M403.04,-87.21C394.75,-75.06 383.41,-58.43 373.99,-44.63\"/>\n<polygon fill=\"black\" stroke=\"black\" points=\"376.66,-42.34 368.13,-36.05 370.88,-46.28 376.66,-42.34\"/>\n<text text-anchor=\"middle\" x=\"401.5\" y=\"-57.8\" font-family=\"Times,serif\" font-size=\"14.00\">True</text>\n</g>\n<!-- 0fc7d235&#45;016e&#45;42ad&#45;9664&#45;d6a998059332 -->\n<g id=\"node9\" class=\"node\">\n<title>0fc7d235&#45;016e&#45;42ad&#45;9664&#45;d6a998059332</title>\n<polygon fill=\"lightblue\" stroke=\"lightblue\" points=\"520,-36 423,-36 423,0 520,0 520,-36\"/>\n<text text-anchor=\"middle\" x=\"471.5\" y=\"-14.3\" font-family=\"Times,serif\" font-size=\"14.00\">Predict: {1: 2}</text>\n</g>\n<!-- 9ff62854&#45;ed63&#45;4b03&#45;85e2&#45;5a354aa506ef&#45;&gt;0fc7d235&#45;016e&#45;42ad&#45;9664&#45;d6a998059332 -->\n<g id=\"edge6\" class=\"edge\">\n<title>9ff62854&#45;ed63&#45;4b03&#45;85e2&#45;5a354aa506ef&#45;&gt;0fc7d235&#45;016e&#45;42ad&#45;9664&#45;d6a998059332</title>\n<path fill=\"none\" stroke=\"black\" d=\"M425.76,-87.21C433.91,-75.06 445.06,-58.43 454.31,-44.63\"/>\n<polygon fill=\"black\" stroke=\"black\" points=\"457.4,-46.3 460.07,-36.05 451.59,-42.41 457.4,-46.3\"/>\n<text text-anchor=\"middle\" x=\"460\" y=\"-57.8\" font-family=\"Times,serif\" font-size=\"14.00\">False</text>\n</g>\n</g>\n</svg>\n",
            "text/plain": [
              "<graphviz.graphs.Digraph at 0x7f8d96b51f50>"
            ]
          },
          "metadata": {},
          "execution_count": 15
        }
      ]
    }
  ]
}