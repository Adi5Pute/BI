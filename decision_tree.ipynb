{
  "nbformat": 4,
  "nbformat_minor": 0,
  "metadata": {
    "colab": {
      "provenance": []
    },
    "kernelspec": {
      "name": "python3",
      "display_name": "Python 3"
    },
    "language_info": {
      "name": "python"
    }
  },
  "cells": [
    {
      "cell_type": "code",
      "execution_count": null,
      "metadata": {
        "colab": {
          "base_uri": "https://localhost:8080/"
        },
        "id": "n4Cz4PMRgwBv",
        "outputId": "9b79f78b-1c2c-406f-9985-fb5f70b96ca5"
      },
      "outputs": [
        {
          "output_type": "stream",
          "name": "stdout",
          "text": [
            "Classification based on Marks:\n",
            "      Name  Marks Result\n",
            "0    Alice     85   Pass\n",
            "1      Bob     72   Pass\n",
            "2  Charlie     90   Pass\n",
            "3    David     66   Pass\n",
            "4      Eva     95   Pass\n",
            "5    Frank     78   Pass\n",
            "6    Grace     88   Pass\n",
            "7    Helan     80   Pass\n",
            "8      Ian     60   Pass\n",
            "9     Jack     92   Pass\n",
            "\n",
            "Decision tree saved as 'decision_tree.png' and 'decision_tree.jpeg'\n"
          ]
        }
      ],
      "source": [
        "import pandas as pd\n",
        "from graphviz import Digraph\n",
        "\n",
        "df = pd.read_csv('/content/sample_data/sample_dataset(2).csv')\n",
        "\n",
        "\n",
        "def classify(marks):\n",
        "    if marks >= 40:\n",
        "        return \"Pass\"\n",
        "    else:\n",
        "        return \"Fail\"\n",
        "\n",
        "df['Result'] = df['Marks'].apply(classify)\n",
        "\n",
        "\n",
        "print(\"Classification based on Marks:\")\n",
        "print(df[['Name', 'Marks', 'Result']])\n",
        "\n",
        "\n",
        "dot = Digraph()\n",
        "\n",
        "\n",
        "dot.node('A', 'Marks >= 75?')\n",
        "dot.node('B', 'Pass')\n",
        "dot.node('C', 'Fail')\n",
        "\n",
        "\n",
        "dot.edge('A', 'B', label='Yes')\n",
        "dot.edge('A', 'C', label='No')\n",
        "\n",
        "# Save the image\n",
        "dot.render('decision_tree', format='png', cleanup=True)\n",
        "# dot.render('decision_tree', format='jpeg', cleanup=True)\n",
        "\n",
        "print(\"\\nDecision tree saved as 'decision_tree.png' and 'decision_tree.jpeg'\")\n"
      ]
    }
  ]
}