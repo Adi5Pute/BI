{
  "nbformat": 4,
  "nbformat_minor": 0,
  "metadata": {
    "colab": {
      "provenance": []
    },
    "kernelspec": {
      "name": "python3",
      "display_name": "Python 3"
    },
    "language_info": {
      "name": "python"
    }
  },
  "cells": [
    {
      "cell_type": "code",
      "execution_count": null,
      "metadata": {
        "colab": {
          "base_uri": "https://localhost:8080/"
        },
        "id": "sQzvALwTdpHA",
        "outputId": "4c8f4574-02a4-4d28-ca3b-d5488b91cdb5"
      },
      "outputs": [
        {
          "output_type": "stream",
          "name": "stdout",
          "text": [
            "Chi-Square Statistic: 4.76\n"
          ]
        }
      ],
      "source": [
        "# Observed frequencies\n",
        "observed = [\n",
        "    [20, 10],  # Male: Pass, Fail\n",
        "    [30, 40]   # Female: Pass, Fail\n",
        "]\n",
        "\n",
        "# Step 1: Calculate row totals, column totals, and grand total\n",
        "row_totals = [sum(row) for row in observed]          # [30, 70]\n",
        "col_totals = [sum(col) for col in zip(*observed)]    # [50, 50]\n",
        "grand_total = sum(row_totals)                        # 100\n",
        "\n",
        "# Step 2: Calculate expected frequencies\n",
        "expected = []\n",
        "for i in range(2):  # rows\n",
        "    row = []\n",
        "    for j in range(2):  # columns\n",
        "        exp = (row_totals[i] * col_totals[j]) / grand_total\n",
        "        row.append(exp)\n",
        "    expected.append(row)\n",
        "\n",
        "# Step 3: Calculate Chi-Square statistic\n",
        "chi_square = 0\n",
        "for i in range(2):\n",
        "    for j in range(2):\n",
        "        o = observed[i][j]\n",
        "        e = expected[i][j]\n",
        "        chi_square += ((o - e) ** 2) / e\n",
        "\n",
        "# Final result\n",
        "print(\"Chi-Square Statistic:\", round(chi_square, 2))\n"
      ]
    }
  ]
}